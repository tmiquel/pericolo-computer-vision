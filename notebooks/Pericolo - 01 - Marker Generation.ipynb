{
 "cells": [
  {
   "cell_type": "markdown",
   "metadata": {},
   "source": [
    "<center style=\"font-weight:bold;font-size:26px\">Pericolo - Marker Generation </center>"
   ]
  },
  {
   "cell_type": "markdown",
   "metadata": {},
   "source": [
    "# Setup"
   ]
  },
  {
   "cell_type": "markdown",
   "metadata": {},
   "source": [
    "## Imports"
   ]
  },
  {
   "cell_type": "code",
   "execution_count": 1,
   "metadata": {
    "ExecuteTime": {
     "end_time": "2020-01-10T00:58:03.908815Z",
     "start_time": "2020-01-10T00:58:03.904936Z"
    }
   },
   "outputs": [],
   "source": [
    "import os\n",
    "import sys"
   ]
  },
  {
   "cell_type": "code",
   "execution_count": 2,
   "metadata": {
    "ExecuteTime": {
     "end_time": "2020-01-10T00:58:06.453825Z",
     "start_time": "2020-01-10T00:58:04.074942Z"
    }
   },
   "outputs": [],
   "source": [
    "import numpy as np\n",
    "import matplotlib.pyplot as plt\n",
    "import cv2\n",
    "from cv2 import aruco\n",
    "import pandas as pd\n",
    "from skimage import feature, color, transform, io\n",
    "from scipy.spatial import distance as dist\n",
    "from PIL import Image, ImageDraw"
   ]
  },
  {
   "cell_type": "code",
   "execution_count": 3,
   "metadata": {
    "ExecuteTime": {
     "end_time": "2020-01-10T00:58:06.459251Z",
     "start_time": "2020-01-10T00:58:06.456171Z"
    }
   },
   "outputs": [],
   "source": [
    "sys.path.append(os.path.join(os.path.abspath(''), '.'))"
   ]
  },
  {
   "cell_type": "code",
   "execution_count": null,
   "metadata": {
    "ExecuteTime": {
     "end_time": "2019-12-23T21:47:25.312251Z",
     "start_time": "2019-12-23T21:47:24.726407Z"
    }
   },
   "outputs": [],
   "source": []
  },
  {
   "cell_type": "markdown",
   "metadata": {},
   "source": [
    "## Global Variables"
   ]
  },
  {
   "cell_type": "code",
   "execution_count": 4,
   "metadata": {
    "ExecuteTime": {
     "end_time": "2020-01-10T00:58:17.887227Z",
     "start_time": "2020-01-10T00:58:17.880989Z"
    }
   },
   "outputs": [],
   "source": [
    "ROOT_FOLDER = os.path.join(os.path.abspath(''), '..')\n",
    "DATA_FOLDER = os.path.join(ROOT_FOLDER, 'data')\n",
    "IMG_FOLDER = os.path.join(DATA_FOLDER, 'img')\n",
    "ANNOT_FOLDER = os.path.join(DATA_FOLDER, 'annotations')"
   ]
  },
  {
   "cell_type": "code",
   "execution_count": null,
   "metadata": {},
   "outputs": [],
   "source": []
  },
  {
   "cell_type": "markdown",
   "metadata": {},
   "source": [
    "# Functions definition"
   ]
  },
  {
   "cell_type": "markdown",
   "metadata": {},
   "source": [
    "## Plot functions"
   ]
  },
  {
   "cell_type": "code",
   "execution_count": 5,
   "metadata": {
    "ExecuteTime": {
     "end_time": "2020-01-10T00:58:18.879518Z",
     "start_time": "2020-01-10T00:58:18.874570Z"
    },
    "code_folding": [
     0
    ]
   },
   "outputs": [],
   "source": [
    "def imshow(img, figsize=(6, 6), cmap=None):\n",
    "    fig = plt.figure(figsize=figsize)\n",
    "    plt.imshow(img, cmap=cmap)\n",
    "    plt.show()"
   ]
  },
  {
   "cell_type": "code",
   "execution_count": 6,
   "metadata": {
    "ExecuteTime": {
     "end_time": "2020-01-10T00:58:19.192011Z",
     "start_time": "2020-01-10T00:58:19.186150Z"
    },
    "code_folding": [
     0
    ]
   },
   "outputs": [],
   "source": [
    "def imshow_masked(img, mask, figsize=(6,6), factor=0.3):\n",
    "    fig = plt.figure(figsize=figsize)\n",
    "    aux_img = img.astype(float)\n",
    "    aux_mask = np.expand_dims(mask.astype(float)*(1-factor) + factor, axis=-1)\n",
    "    drk_img = (aux_img * aux_mask).astype(np.uint8)\n",
    "    plt.imshow(drk_img)\n",
    "    plt.show()"
   ]
  },
  {
   "cell_type": "markdown",
   "metadata": {},
   "source": [
    "# Aruco Generation"
   ]
  },
  {
   "cell_type": "markdown",
   "metadata": {},
   "source": [
    "## Aruco Board"
   ]
  },
  {
   "cell_type": "markdown",
   "metadata": {},
   "source": [
    "We first generate an Aruco Board as described in [Aruco Basics for OpenCV Python](https://mecaruco2.readthedocs.io/en/latest/notebooks_rst/Aruco/aruco_basics.html)"
   ]
  },
  {
   "cell_type": "code",
   "execution_count": 5,
   "metadata": {
    "ExecuteTime": {
     "end_time": "2020-01-08T21:42:29.469907Z",
     "start_time": "2020-01-08T21:42:29.465913Z"
    }
   },
   "outputs": [],
   "source": [
    "aruco_dict = aruco.Dictionary_get(aruco.DICT_6X6_250)"
   ]
  },
  {
   "cell_type": "markdown",
   "metadata": {},
   "source": [
    "You can tweak `nx` and `ny` to generate an Aruco Board with marker's id ranging from `0` to `nx*ny`\n",
    "\n",
    "To control markers are genuine you can use [Aruco Generator](http://chev.me/arucogen/) to confirm id are matching\n",
    "\n",
    "Please note that, on the next cell, marker's id range from `1` to `nx*ny+1`"
   ]
  },
  {
   "cell_type": "code",
   "execution_count": 6,
   "metadata": {
    "ExecuteTime": {
     "end_time": "2020-01-08T21:42:32.025031Z",
     "start_time": "2020-01-08T21:42:31.151581Z"
    }
   },
   "outputs": [
    {
     "data": {
      "image/png": "[encoded data removed]",
      "text/plain": [
       "<Figure size 1008x720 with 16 Axes>"
      ]
     },
     "metadata": {
      "needs_background": "light"
     },
     "output_type": "display_data"
    }
   ],
   "source": [
    "# The figsize is (14, 10) to match as closely as possible the A4 format ratio (29.7/21 ~ 1.41)\n",
    "fig = plt.figure(figsize=(14, 10))\n",
    "nx = 4\n",
    "ny = 4\n",
    "for i in range(1, nx*ny+1):\n",
    "    ax = fig.add_subplot(ny,nx, i)\n",
    "    img = aruco.drawMarker(aruco_dict,i, 700)\n",
    "    plt.imshow(img, cmap = 'gray', interpolation = \"nearest\")\n",
    "    ax.axis(\"off\")\n",
    "\n",
    "plt.savefig(\"aruco_board.pdf\")\n",
    "plt.savefig(\"aruco_board.png\")\n",
    "plt.show()"
   ]
  },
  {
   "cell_type": "markdown",
   "metadata": {},
   "source": [
    "Since we have Aruco markers, we'll try to enhance the board with black borders to allow sift detector to detect the entire page _(A4 format $21\\cdot29.7\\;cm^2$)_"
   ]
  },
  {
   "cell_type": "code",
   "execution_count": 11,
   "metadata": {
    "ExecuteTime": {
     "end_time": "2020-01-08T21:43:01.115507Z",
     "start_time": "2020-01-08T21:43:00.901995Z"
    }
   },
   "outputs": [
    {
     "data": {
      "image/png": "[encoded data removed]",
      "text/plain": [
       "<Figure size 432x432 with 1 Axes>"
      ]
     },
     "metadata": {
      "needs_background": "light"
     },
     "output_type": "display_data"
    }
   ],
   "source": [
    "aruco_board = io.imread(\"aruco_board.png\")\n",
    "imshow(aruco_board)"
   ]
  },
  {
   "cell_type": "markdown",
   "metadata": {},
   "source": [
    "We generate black borders thanks to the 4 following variables.\n",
    "- `padding_[h|v]` to apply an horizontal/vertical offset to the black borders\n",
    "- `size_[h|v]` to define the thickness of the horizontal/vertical borders"
   ]
  },
  {
   "cell_type": "markdown",
   "metadata": {},
   "source": [
    "The default values used in the Aruco Board Notebook are:\n",
    "- `padding_h = 0`\n",
    "- `padding_v = 0`\n",
    "- `size_h = 20`\n",
    "- `size_v = 50`"
   ]
  },
  {
   "cell_type": "code",
   "execution_count": 12,
   "metadata": {
    "ExecuteTime": {
     "end_time": "2020-01-08T21:43:04.815980Z",
     "start_time": "2020-01-08T21:43:04.811819Z"
    }
   },
   "outputs": [],
   "source": [
    "# We generate black borders thanks to the 4 following variables.\n",
    "# Padding to apply an offset to the black borders\n",
    "# Size to define the thickness of the borders\n",
    "padding_h = 0\n",
    "padding_v = 0\n",
    "size_h = 20\n",
    "size_v = 50"
   ]
  },
  {
   "cell_type": "markdown",
   "metadata": {},
   "source": [
    "The generated board is ready to be printed. Use lanscape orientation and allow printer margin."
   ]
  },
  {
   "cell_type": "code",
   "execution_count": 13,
   "metadata": {
    "ExecuteTime": {
     "end_time": "2020-01-08T21:43:05.733689Z",
     "start_time": "2020-01-08T21:43:05.405138Z"
    }
   },
   "outputs": [
    {
     "data": {
      "image/png": "[encoded data removed]",
      "text/plain": [
       "<Figure size 432x432 with 1 Axes>"
      ]
     },
     "metadata": {
      "needs_background": "light"
     },
     "output_type": "display_data"
    }
   ],
   "source": [
    "shape = aruco_board.shape\n",
    "new_img = aruco_board[:, :, :3].copy()\n",
    "# Horizontal Lines\n",
    "new_img[padding_h:padding_h+size_h, padding_v:shape[1]-padding_v, :] = 0\n",
    "new_img[shape[0]-padding_h-size_h:shape[0]-padding_h, padding_v:shape[1]-padding_v, :] = 0\n",
    "# Vertical Lines\n",
    "new_img[padding_h:shape[0]-padding_h ,padding_v:padding_v+size_v, :] = 0\n",
    "new_img[padding_h:shape[0]-padding_h, shape[1]-padding_v-size_v:shape[1]-padding_v, :] = 0\n",
    "imshow(new_img[:,:, :3])\n",
    "io.imsave(\"aruco_board_w_borders.png\", new_img[:, :, :3])"
   ]
  },
  {
   "cell_type": "markdown",
   "metadata": {
    "ExecuteTime": {
     "end_time": "2020-01-08T01:07:30.383772Z",
     "start_time": "2020-01-08T01:07:30.266057Z"
    }
   },
   "source": [
    "Since the printed board will obviously have margin from printer, we generate virtually the white borders for a better detection by the SIFT detector.\n",
    "\n",
    "By default, we use `vstack=30` and `hstack=30`"
   ]
  },
  {
   "cell_type": "code",
   "execution_count": 14,
   "metadata": {
    "ExecuteTime": {
     "end_time": "2020-01-08T21:43:06.957017Z",
     "start_time": "2020-01-08T21:43:06.631556Z"
    }
   },
   "outputs": [
    {
     "data": {
      "image/png": "[encoded data removed]",
      "text/plain": [
       "<Figure size 432x432 with 1 Axes>"
      ]
     },
     "metadata": {
      "needs_background": "light"
     },
     "output_type": "display_data"
    }
   ],
   "source": [
    "# White border size in pixel\n",
    "vstack = 30\n",
    "hstack = 30\n",
    "# White borders generation\n",
    "vstacker = 255 * np.ones((vstack, shape[1], 3))\n",
    "hstacker = 255 * np.ones((shape[0]+2*hstack, hstack, 3))\n",
    "stacked_img = np.vstack([vstacker, new_img, vstacker])\n",
    "stacked_img = np.hstack([hstacker, stacked_img, hstacker])\n",
    "stacked_img = stacked_img.astype(np.uint8)\n",
    "imshow(stacked_img)\n",
    "io.imsave(\"aruco_board_w_borders_sift.png\", stacked_img)"
   ]
  },
  {
   "cell_type": "markdown",
   "metadata": {},
   "source": [
    "You have now generated the board to be printed and the one to be used as training board for SIFT detectors"
   ]
  },
  {
   "cell_type": "markdown",
   "metadata": {},
   "source": [
    "## Single Marker generation"
   ]
  },
  {
   "cell_type": "markdown",
   "metadata": {},
   "source": [
    "We generate a single marker with large dimension to create our own enclosed marker"
   ]
  },
  {
   "cell_type": "code",
   "execution_count": 15,
   "metadata": {
    "ExecuteTime": {
     "end_time": "2020-01-08T21:43:08.826757Z",
     "start_time": "2020-01-08T21:43:08.539103Z"
    }
   },
   "outputs": [
    {
     "data": {
      "image/png": "[encoded data removed]",
      "text/plain": [
       "<Figure size 432x432 with 1 Axes>"
      ]
     },
     "metadata": {
      "needs_background": "light"
     },
     "output_type": "display_data"
    }
   ],
   "source": [
    "single_aruco_marker = aruco.drawMarker(aruco_dict, 0, 1700)\n",
    "imshow(single_aruco_marker, cmap='gray')\n",
    "io.imsave(\"single_aruco_marker.png\", single_aruco_marker)"
   ]
  },
  {
   "cell_type": "markdown",
   "metadata": {},
   "source": [
    "Since we generate a single marker with a genuine ID, we now modify the enclosed marker found in [ArUco Library Documentation\n",
    "](https://docs.google.com/document/d/1QU9KoBtjSM2kF6ITOjQ76xqL7H0TEtXriJX5kwi9Kgc/edit#).\n",
    "\n",
    "The enclosed marker was modified with a image editing software _(Gimp)_ for the sake of time, but results as the following marker:\n",
    "![enclosed_marker](../markers/single_aruco_marker_enclosed_id0.png)"
   ]
  },
  {
   "cell_type": "markdown",
   "metadata": {},
   "source": [
    "We can create a function that generates enclosed marker."
   ]
  },
  {
   "cell_type": "code",
   "execution_count": 16,
   "metadata": {
    "ExecuteTime": {
     "end_time": "2020-01-08T21:43:10.562075Z",
     "start_time": "2020-01-08T21:43:10.551339Z"
    },
    "code_folding": [
     0
    ]
   },
   "outputs": [],
   "source": [
    "def generate_enclosed_marker(aruco_dict, marker_id, marker_size, square_factor=4):\n",
    "    aruco_marker = aruco.drawMarker(aruco_dict,marker_id, marker_size)\n",
    "    offset = marker_size // square_factor\n",
    "    h_stack = 255*np.ones((marker_size, offset))\n",
    "    v_stack = 255*np.ones(( offset, marker_size+2*offset))\n",
    "    aruco_marker = np.hstack([h_stack, aruco_marker, h_stack])\n",
    "    aruco_marker = np.vstack([v_stack, aruco_marker, v_stack])\n",
    "    aruco_marker[0:offset, 0:offset] = 0\n",
    "    aruco_marker[marker_size+offset:marker_size+2*offset, 0:offset] = 0\n",
    "    aruco_marker[0:offset, marker_size+offset:marker_size+2*offset] = 0\n",
    "    aruco_marker[marker_size+offset:marker_size+2*offset, marker_size+offset:marker_size+2*offset] = 0\n",
    "    aruco_marker[marker_size+offset:marker_size+2*offset, 0:offset] = 0\n",
    "    return aruco_marker"
   ]
  },
  {
   "cell_type": "code",
   "execution_count": 17,
   "metadata": {
    "ExecuteTime": {
     "end_time": "2020-01-08T21:43:12.837754Z",
     "start_time": "2020-01-08T21:43:12.607789Z"
    }
   },
   "outputs": [
    {
     "data": {
      "image/png": "[encoded data removed]",
      "text/plain": [
       "<Figure size 432x432 with 1 Axes>"
      ]
     },
     "metadata": {
      "needs_background": "light"
     },
     "output_type": "display_data"
    }
   ],
   "source": [
    "imshow(generate_enclosed_marker(0, 1000), cmap='gray')"
   ]
  },
  {
   "cell_type": "markdown",
   "metadata": {},
   "source": [
    "# Investigation on Unknown Marker"
   ]
  },
  {
   "cell_type": "markdown",
   "metadata": {},
   "source": [
    "Support on [Aruco dictionnaries](https://docs.opencv.org/trunk/d5/dae/tutorial_aruco_detection.html)"
   ]
  },
  {
   "cell_type": "code",
   "execution_count": 7,
   "metadata": {
    "ExecuteTime": {
     "end_time": "2020-01-10T00:58:26.289136Z",
     "start_time": "2020-01-10T00:58:26.282829Z"
    }
   },
   "outputs": [],
   "source": [
    "def image_to_tile(im, tile_size=8):\n",
    "    M = im.shape[0]//tile_size\n",
    "    N = im.shape[1]//tile_size\n",
    "    tiles = [im[x:x+M,y:y+N] for x in range(0,im.shape[0],M) for y in range(0,im.shape[1],N)]\n",
    "    return tiles"
   ]
  },
  {
   "cell_type": "code",
   "execution_count": 8,
   "metadata": {
    "ExecuteTime": {
     "end_time": "2020-01-10T00:58:26.796629Z",
     "start_time": "2020-01-10T00:58:26.790984Z"
    }
   },
   "outputs": [],
   "source": [
    "def tiles_profile(tiles, tile_size=8):\n",
    "    medians = list(map(lambda x: np.median(x),tiles))\n",
    "    medians = np.array(medians) // 255\n",
    "    medians = medians.reshape((tile_size, tile_size))\n",
    "    return medians"
   ]
  },
  {
   "cell_type": "markdown",
   "metadata": {},
   "source": [
    "We generate the profile of a marker by dividing it into $8\\times8$ tiles. A $0$ meaning black tile and $1$ meaning white tile.\n",
    "\n",
    "We will use 2 aproach to find the unknown marker ID.\n",
    "- Compare the profile to find the exact same one as the unknow marker\n",
    "- Try to find the marker id that minimize the absolute error with regard to the unknown marker"
   ]
  },
  {
   "cell_type": "code",
   "execution_count": 29,
   "metadata": {
    "ExecuteTime": {
     "end_time": "2020-01-10T01:01:03.614537Z",
     "start_time": "2020-01-10T01:01:03.250167Z"
    }
   },
   "outputs": [
    {
     "name": "stdout",
     "output_type": "stream",
     "text": [
      "[[0. 0. 0. 0. 0. 0. 0. 0.]\n",
      " [0. 1. 1. 0. 1. 0. 0. 0.]\n",
      " [0. 1. 0. 1. 0. 1. 1. 0.]\n",
      " [0. 0. 1. 1. 0. 0. 0. 0.]\n",
      " [0. 1. 1. 1. 0. 1. 0. 0.]\n",
      " [0. 0. 0. 0. 0. 1. 0. 0.]\n",
      " [0. 0. 1. 1. 1. 0. 1. 0.]\n",
      " [0. 0. 0. 0. 0. 0. 0. 0.]]\n"
     ]
    },
    {
     "data": {
      "image/png": "[encoded data removed]",
      "text/plain": [
       "<Figure size 432x432 with 1 Axes>"
      ]
     },
     "metadata": {
      "needs_background": "light"
     },
     "output_type": "display_data"
    },
    {
     "data": {
      "image/png": "[encoded data removed]",
      "text/plain": [
       "<Figure size 432x432 with 1 Axes>"
      ]
     },
     "metadata": {
      "needs_background": "light"
     },
     "output_type": "display_data"
    }
   ],
   "source": [
    "# We open a Marker Image\n",
    "unknown_marker = cv2.imread(os.path.join(ROOT_FOLDER, 'markers', 'unknown_marker.png'),0)\n",
    "#unknown_marker = cv2.imread(os.path.join(ROOT_FOLDER, 'markers', 'single_aruco_marker_id0.png'),0)\n",
    "#unknown_marker = cv2.rotate(unknown_marker, cv2.ROTATE_180)\n",
    "# We resize the marker image to (80,80)\n",
    "unknown_marker = cv2.resize(unknown_marker, (80,80))\n",
    "# We split the image into 8X8 tiles\n",
    "tiles = image_to_tile(unknown_marker)\n",
    "# For each tile we compute the median to find the dominant color (black or white)\n",
    "tiled_img = tiles_profile(tiles)\n",
    "print(tiled_img)\n",
    "imshow(unknown_marker, cmap='gray')\n",
    "imshow(tiled_img, cmap='gray')"
   ]
  },
  {
   "cell_type": "markdown",
   "metadata": {},
   "source": [
    "The biggest Aruco dictionnary available in OpenCV-Python is the `DICT_6X6_1000` containing 1000 markers. We loop over each possible IDs [0-999] to compare their profile to the unknown marker."
   ]
  },
  {
   "cell_type": "code",
   "execution_count": 25,
   "metadata": {
    "ExecuteTime": {
     "end_time": "2020-01-10T01:00:44.623875Z",
     "start_time": "2020-01-10T01:00:44.619993Z"
    }
   },
   "outputs": [],
   "source": [
    "aruco_dict = aruco.Dictionary_get(aruco.DICT_6X6_1000)"
   ]
  },
  {
   "cell_type": "code",
   "execution_count": 26,
   "metadata": {
    "ExecuteTime": {
     "end_time": "2020-01-10T01:00:46.713944Z",
     "start_time": "2020-01-10T01:00:45.065385Z"
    }
   },
   "outputs": [
    {
     "name": "stdout",
     "output_type": "stream",
     "text": [
      "Step 1/1000\n",
      "Step 51/1000\n",
      "Step 101/1000\n",
      "Step 151/1000\n",
      "Step 201/1000\n",
      "Step 251/1000\n",
      "Step 301/1000\n",
      "Step 351/1000\n",
      "Step 401/1000\n",
      "Step 451/1000\n",
      "Step 501/1000\n",
      "Step 551/1000\n",
      "Step 601/1000\n",
      "Step 651/1000\n",
      "Step 701/1000\n",
      "Step 751/1000\n",
      "Step 801/1000\n",
      "Step 851/1000\n",
      "Step 901/1000\n",
      "Step 951/1000\n"
     ]
    }
   ],
   "source": [
    "# Check for exact match\n",
    "for i in range(1000):\n",
    "    aux_marker = aruco.drawMarker(aruco_dict, i, 80)\n",
    "    aux_tiles = image_to_tile(aux_marker)\n",
    "    tiled_aux = tiles_profile(aux_tiles)\n",
    "    if np.array_equal(tiled_aux, tiled_img):\n",
    "        print(f\"$$$$$$ MATCH ID {i} $$$$$$\")\n",
    "        break\n",
    "    if i % 50 == 0:\n",
    "        print(f\"Step {i+1}/1000\")"
   ]
  },
  {
   "cell_type": "markdown",
   "metadata": {},
   "source": [
    "No markers seem to match exactly the unknown marker within the whole `DICT_6X6_1000` Aruco dictionnary."
   ]
  },
  {
   "cell_type": "markdown",
   "metadata": {},
   "source": [
    "Next, we try to find the closest marker available in the `DICT_6X6_1000`to the unknown marker by computing their profile error."
   ]
  },
  {
   "cell_type": "code",
   "execution_count": 27,
   "metadata": {
    "ExecuteTime": {
     "end_time": "2020-01-10T01:00:49.548959Z",
     "start_time": "2020-01-10T01:00:47.933403Z"
    }
   },
   "outputs": [
    {
     "name": "stdout",
     "output_type": "stream",
     "text": [
      "Minimum Error found for id 0 with 18.0\n",
      "Minimum Error found for id 2 with 16.0\n",
      "Minimum Error found for id 6 with 12.0\n",
      "Minimum Error found for id 35 with 11.0\n",
      "Minimum Error found for id 238 with 8.0\n"
     ]
    }
   ],
   "source": [
    "# Check for minimum error\n",
    "error = 8*8\n",
    "for i in range(1000):\n",
    "    aux_marker = aruco.drawMarker(aruco_dict, i, 80)\n",
    "    aux_tiles = image_to_tile(aux_marker)\n",
    "    tiled_aux = tiles_profile(aux_tiles)\n",
    "    aux_error = np.abs(tiled_aux - tiled_img).sum()\n",
    "    if aux_error < error:\n",
    "        print(f\"Minimum Error found for id {i} with {aux_error}\")\n",
    "        error = aux_error\n",
    "        top_index = i"
   ]
  },
  {
   "cell_type": "markdown",
   "metadata": {},
   "source": [
    "It seems the closest marker found in term of error has nothing to do with the unknown marker. So far, we are not able to determine any specific ID for this unknown marker. It appears it is not contained in the pre-defined Aruco dictionnaries, meaning the Aruco function `detectMarkers` will not be able to find this unknown marker on a scene since it relies on Aruco dictionnaries."
   ]
  },
  {
   "cell_type": "code",
   "execution_count": 28,
   "metadata": {
    "ExecuteTime": {
     "end_time": "2020-01-10T01:00:52.125700Z",
     "start_time": "2020-01-10T01:00:51.964996Z"
    }
   },
   "outputs": [
    {
     "data": {
      "image/png": "[encoded data removed]",
      "text/plain": [
       "<Figure size 432x432 with 1 Axes>"
      ]
     },
     "metadata": {
      "needs_background": "light"
     },
     "output_type": "display_data"
    }
   ],
   "source": [
    "imshow(aruco.drawMarker(aruco_dict, top_index, 8), cmap='gray')"
   ]
  },
  {
   "cell_type": "code",
   "execution_count": null,
   "metadata": {},
   "outputs": [],
   "source": []
  }
 ],
 "metadata": {
  "kernelspec": {
   "display_name": "Python 3",
   "language": "python",
   "name": "python3"
  },
  "language_info": {
   "codemirror_mode": {
    "name": "ipython",
    "version": 3
   },
   "file_extension": ".py",
   "mimetype": "text/x-python",
   "name": "python",
   "nbconvert_exporter": "python",
   "pygments_lexer": "ipython3",
   "version": "3.7.5"
  },
  "toc": {
   "base_numbering": 1,
   "nav_menu": {},
   "number_sections": true,
   "sideBar": true,
   "skip_h1_title": false,
   "title_cell": "Table of Contents",
   "title_sidebar": "Contents",
   "toc_cell": false,
   "toc_position": {},
   "toc_section_display": true,
   "toc_window_display": false
  }
 },
 "nbformat": 4,
 "nbformat_minor": 2
}
